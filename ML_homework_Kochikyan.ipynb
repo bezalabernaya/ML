{
  "nbformat": 4,
  "nbformat_minor": 0,
  "metadata": {
    "colab": {
      "provenance": []
    },
    "kernelspec": {
      "name": "python3",
      "language": "python",
      "display_name": "Python 3 (ipykernel)"
    },
    "language_info": {
      "name": "python"
    }
  },
  "cells": [
    {
      "cell_type": "markdown",
      "source": [
        "Переведем data.json в удобный для работы формат.\n",
        "\n",
        "1.Функции:\n",
        "\n",
        "read_json - читаем исходный файл и переводим данные в список словарей.\n",
        "Array_of_unique_ingredients - создаем  массив, состоящий из оригинальных названий ингридиентов.\n",
        "create_dataframe - создание датафрейма из списка словарей и ингридиентов с применением One Hot Encoder."
      ],
      "metadata": {
        "collapsed": false,
        "id": "aCd07Du7qJzt"
      }
    },
    {
      "cell_type": "code",
      "execution_count": 2,
      "metadata": {
        "id": "ge1Slzp3Y-7y"
      },
      "outputs": [],
      "source": [
        "import json\n",
        "import numpy as np\n",
        "import pandas as pd\n",
        "\n",
        "\n",
        "def read_json(path: str) -> list:\n",
        "    with open(path) as f:\n",
        "        return json.load(f)\n",
        "\n",
        "\n",
        "def Array_of_unique_ingredients(data: list) -> np.array:\n",
        "    ret = []\n",
        "    for obj in data:\n",
        "        for ing in obj['ingredients']:\n",
        "            ret.append(ing)\n",
        "    return np.unique(ret)\n",
        "\n",
        "\n",
        "def create_dataframe(data: list, unique_ingredients: np.array) -> pd.DataFrame:\n",
        "    cols = np.append(unique_ingredients, 'cuisine')\n",
        "    df = pd.DataFrame(index=[_['id'] for _ in data], columns=cols)\n",
        "    for obj in data:\n",
        "        id = obj['id']\n",
        "        df.loc[df.index == id, 'cuisine'] = obj['cuisine']\n",
        "        for ing in obj['ingredients']:\n",
        "            df.loc[df.index == id, ing] = True\n",
        "    return df.fillna(value=False)\n",
        "\n",
        "\n",
        "def json_to_dataframe(path):\n",
        "    data = read_json(path)\n",
        "    unique_ingredients = Array_of_unique_ingredients(data)\n",
        "    return create_dataframe(data, unique_ingredients)"
      ]
    },
    {
      "cell_type": "markdown",
      "source": [
        "2.Внешний вид созданного датафрейма."
      ],
      "metadata": {
        "collapsed": false,
        "id": "AaCGc5FgqJzx"
      }
    },
    {
      "cell_type": "code",
      "source": [
        "df = json_to_dataframe(\"data.json\")\n",
        "df.head()"
      ],
      "metadata": {
        "colab": {
          "base_uri": "https://localhost:8080/",
          "height": 377
        },
        "id": "Qo84JOEEqijM",
        "outputId": "f8ff8497-2132-4043-b6d1-e3ba31a0ae20"
      },
      "execution_count": 7,
      "outputs": [
        {
          "output_type": "execute_result",
          "data": {
            "text/plain": [
              "       (    oz.) tomato sauce  (   oz.) tomato paste  \\\n",
              "10259                   False                  False   \n",
              "25693                   False                  False   \n",
              "20130                   False                  False   \n",
              "22213                   False                  False   \n",
              "13162                   False                  False   \n",
              "\n",
              "       (10 oz.) frozen chopped spinach  \\\n",
              "10259                            False   \n",
              "25693                            False   \n",
              "20130                            False   \n",
              "22213                            False   \n",
              "13162                            False   \n",
              "\n",
              "       (10 oz.) frozen chopped spinach, thawed and squeezed dry  \\\n",
              "10259                                              False          \n",
              "25693                                              False          \n",
              "20130                                              False          \n",
              "22213                                              False          \n",
              "13162                                              False          \n",
              "\n",
              "       (14 oz.) sweetened condensed milk  (14.5 oz.) diced tomatoes  \\\n",
              "10259                              False                      False   \n",
              "25693                              False                      False   \n",
              "20130                              False                      False   \n",
              "22213                              False                      False   \n",
              "13162                              False                      False   \n",
              "\n",
              "       (15 oz.) refried beans  1% low-fat buttermilk  \\\n",
              "10259                   False                  False   \n",
              "25693                   False                  False   \n",
              "20130                   False                  False   \n",
              "22213                   False                  False   \n",
              "13162                   False                  False   \n",
              "\n",
              "       1% low-fat chocolate milk  1% low-fat cottage cheese  ...   yuzu  \\\n",
              "10259                      False                      False  ...  False   \n",
              "25693                      False                      False  ...  False   \n",
              "20130                      False                      False  ...  False   \n",
              "22213                      False                      False  ...  False   \n",
              "13162                      False                      False  ...  False   \n",
              "\n",
              "       yuzu juice  za'atar   zest  zesty italian dressing  zinfandel   ziti  \\\n",
              "10259       False    False  False                   False      False  False   \n",
              "25693       False    False  False                   False      False  False   \n",
              "20130       False    False  False                   False      False  False   \n",
              "22213       False    False  False                   False      False  False   \n",
              "13162       False    False  False                   False      False  False   \n",
              "\n",
              "       zucchini  zucchini blossoms      cuisine  \n",
              "10259     False              False        greek  \n",
              "25693     False              False  southern_us  \n",
              "20130     False              False     filipino  \n",
              "22213     False              False       indian  \n",
              "13162     False              False       indian  \n",
              "\n",
              "[5 rows x 6715 columns]"
            ],
            "text/html": [
              "\n",
              "  <div id=\"df-1e35920a-b3c5-43a3-a366-e54d250b86d8\" class=\"colab-df-container\">\n",
              "    <div>\n",
              "<style scoped>\n",
              "    .dataframe tbody tr th:only-of-type {\n",
              "        vertical-align: middle;\n",
              "    }\n",
              "\n",
              "    .dataframe tbody tr th {\n",
              "        vertical-align: top;\n",
              "    }\n",
              "\n",
              "    .dataframe thead th {\n",
              "        text-align: right;\n",
              "    }\n",
              "</style>\n",
              "<table border=\"1\" class=\"dataframe\">\n",
              "  <thead>\n",
              "    <tr style=\"text-align: right;\">\n",
              "      <th></th>\n",
              "      <th>(    oz.) tomato sauce</th>\n",
              "      <th>(   oz.) tomato paste</th>\n",
              "      <th>(10 oz.) frozen chopped spinach</th>\n",
              "      <th>(10 oz.) frozen chopped spinach, thawed and squeezed dry</th>\n",
              "      <th>(14 oz.) sweetened condensed milk</th>\n",
              "      <th>(14.5 oz.) diced tomatoes</th>\n",
              "      <th>(15 oz.) refried beans</th>\n",
              "      <th>1% low-fat buttermilk</th>\n",
              "      <th>1% low-fat chocolate milk</th>\n",
              "      <th>1% low-fat cottage cheese</th>\n",
              "      <th>...</th>\n",
              "      <th>yuzu</th>\n",
              "      <th>yuzu juice</th>\n",
              "      <th>za'atar</th>\n",
              "      <th>zest</th>\n",
              "      <th>zesty italian dressing</th>\n",
              "      <th>zinfandel</th>\n",
              "      <th>ziti</th>\n",
              "      <th>zucchini</th>\n",
              "      <th>zucchini blossoms</th>\n",
              "      <th>cuisine</th>\n",
              "    </tr>\n",
              "  </thead>\n",
              "  <tbody>\n",
              "    <tr>\n",
              "      <th>10259</th>\n",
              "      <td>False</td>\n",
              "      <td>False</td>\n",
              "      <td>False</td>\n",
              "      <td>False</td>\n",
              "      <td>False</td>\n",
              "      <td>False</td>\n",
              "      <td>False</td>\n",
              "      <td>False</td>\n",
              "      <td>False</td>\n",
              "      <td>False</td>\n",
              "      <td>...</td>\n",
              "      <td>False</td>\n",
              "      <td>False</td>\n",
              "      <td>False</td>\n",
              "      <td>False</td>\n",
              "      <td>False</td>\n",
              "      <td>False</td>\n",
              "      <td>False</td>\n",
              "      <td>False</td>\n",
              "      <td>False</td>\n",
              "      <td>greek</td>\n",
              "    </tr>\n",
              "    <tr>\n",
              "      <th>25693</th>\n",
              "      <td>False</td>\n",
              "      <td>False</td>\n",
              "      <td>False</td>\n",
              "      <td>False</td>\n",
              "      <td>False</td>\n",
              "      <td>False</td>\n",
              "      <td>False</td>\n",
              "      <td>False</td>\n",
              "      <td>False</td>\n",
              "      <td>False</td>\n",
              "      <td>...</td>\n",
              "      <td>False</td>\n",
              "      <td>False</td>\n",
              "      <td>False</td>\n",
              "      <td>False</td>\n",
              "      <td>False</td>\n",
              "      <td>False</td>\n",
              "      <td>False</td>\n",
              "      <td>False</td>\n",
              "      <td>False</td>\n",
              "      <td>southern_us</td>\n",
              "    </tr>\n",
              "    <tr>\n",
              "      <th>20130</th>\n",
              "      <td>False</td>\n",
              "      <td>False</td>\n",
              "      <td>False</td>\n",
              "      <td>False</td>\n",
              "      <td>False</td>\n",
              "      <td>False</td>\n",
              "      <td>False</td>\n",
              "      <td>False</td>\n",
              "      <td>False</td>\n",
              "      <td>False</td>\n",
              "      <td>...</td>\n",
              "      <td>False</td>\n",
              "      <td>False</td>\n",
              "      <td>False</td>\n",
              "      <td>False</td>\n",
              "      <td>False</td>\n",
              "      <td>False</td>\n",
              "      <td>False</td>\n",
              "      <td>False</td>\n",
              "      <td>False</td>\n",
              "      <td>filipino</td>\n",
              "    </tr>\n",
              "    <tr>\n",
              "      <th>22213</th>\n",
              "      <td>False</td>\n",
              "      <td>False</td>\n",
              "      <td>False</td>\n",
              "      <td>False</td>\n",
              "      <td>False</td>\n",
              "      <td>False</td>\n",
              "      <td>False</td>\n",
              "      <td>False</td>\n",
              "      <td>False</td>\n",
              "      <td>False</td>\n",
              "      <td>...</td>\n",
              "      <td>False</td>\n",
              "      <td>False</td>\n",
              "      <td>False</td>\n",
              "      <td>False</td>\n",
              "      <td>False</td>\n",
              "      <td>False</td>\n",
              "      <td>False</td>\n",
              "      <td>False</td>\n",
              "      <td>False</td>\n",
              "      <td>indian</td>\n",
              "    </tr>\n",
              "    <tr>\n",
              "      <th>13162</th>\n",
              "      <td>False</td>\n",
              "      <td>False</td>\n",
              "      <td>False</td>\n",
              "      <td>False</td>\n",
              "      <td>False</td>\n",
              "      <td>False</td>\n",
              "      <td>False</td>\n",
              "      <td>False</td>\n",
              "      <td>False</td>\n",
              "      <td>False</td>\n",
              "      <td>...</td>\n",
              "      <td>False</td>\n",
              "      <td>False</td>\n",
              "      <td>False</td>\n",
              "      <td>False</td>\n",
              "      <td>False</td>\n",
              "      <td>False</td>\n",
              "      <td>False</td>\n",
              "      <td>False</td>\n",
              "      <td>False</td>\n",
              "      <td>indian</td>\n",
              "    </tr>\n",
              "  </tbody>\n",
              "</table>\n",
              "<p>5 rows × 6715 columns</p>\n",
              "</div>\n",
              "    <div class=\"colab-df-buttons\">\n",
              "\n",
              "  <div class=\"colab-df-container\">\n",
              "    <button class=\"colab-df-convert\" onclick=\"convertToInteractive('df-1e35920a-b3c5-43a3-a366-e54d250b86d8')\"\n",
              "            title=\"Convert this dataframe to an interactive table.\"\n",
              "            style=\"display:none;\">\n",
              "\n",
              "  <svg xmlns=\"http://www.w3.org/2000/svg\" height=\"24px\" viewBox=\"0 -960 960 960\">\n",
              "    <path d=\"M120-120v-720h720v720H120Zm60-500h600v-160H180v160Zm220 220h160v-160H400v160Zm0 220h160v-160H400v160ZM180-400h160v-160H180v160Zm440 0h160v-160H620v160ZM180-180h160v-160H180v160Zm440 0h160v-160H620v160Z\"/>\n",
              "  </svg>\n",
              "    </button>\n",
              "\n",
              "  <style>\n",
              "    .colab-df-container {\n",
              "      display:flex;\n",
              "      gap: 12px;\n",
              "    }\n",
              "\n",
              "    .colab-df-convert {\n",
              "      background-color: #E8F0FE;\n",
              "      border: none;\n",
              "      border-radius: 50%;\n",
              "      cursor: pointer;\n",
              "      display: none;\n",
              "      fill: #1967D2;\n",
              "      height: 32px;\n",
              "      padding: 0 0 0 0;\n",
              "      width: 32px;\n",
              "    }\n",
              "\n",
              "    .colab-df-convert:hover {\n",
              "      background-color: #E2EBFA;\n",
              "      box-shadow: 0px 1px 2px rgba(60, 64, 67, 0.3), 0px 1px 3px 1px rgba(60, 64, 67, 0.15);\n",
              "      fill: #174EA6;\n",
              "    }\n",
              "\n",
              "    .colab-df-buttons div {\n",
              "      margin-bottom: 4px;\n",
              "    }\n",
              "\n",
              "    [theme=dark] .colab-df-convert {\n",
              "      background-color: #3B4455;\n",
              "      fill: #D2E3FC;\n",
              "    }\n",
              "\n",
              "    [theme=dark] .colab-df-convert:hover {\n",
              "      background-color: #434B5C;\n",
              "      box-shadow: 0px 1px 3px 1px rgba(0, 0, 0, 0.15);\n",
              "      filter: drop-shadow(0px 1px 2px rgba(0, 0, 0, 0.3));\n",
              "      fill: #FFFFFF;\n",
              "    }\n",
              "  </style>\n",
              "\n",
              "    <script>\n",
              "      const buttonEl =\n",
              "        document.querySelector('#df-1e35920a-b3c5-43a3-a366-e54d250b86d8 button.colab-df-convert');\n",
              "      buttonEl.style.display =\n",
              "        google.colab.kernel.accessAllowed ? 'block' : 'none';\n",
              "\n",
              "      async function convertToInteractive(key) {\n",
              "        const element = document.querySelector('#df-1e35920a-b3c5-43a3-a366-e54d250b86d8');\n",
              "        const dataTable =\n",
              "          await google.colab.kernel.invokeFunction('convertToInteractive',\n",
              "                                                    [key], {});\n",
              "        if (!dataTable) return;\n",
              "\n",
              "        const docLinkHtml = 'Like what you see? Visit the ' +\n",
              "          '<a target=\"_blank\" href=https://colab.research.google.com/notebooks/data_table.ipynb>data table notebook</a>'\n",
              "          + ' to learn more about interactive tables.';\n",
              "        element.innerHTML = '';\n",
              "        dataTable['output_type'] = 'display_data';\n",
              "        await google.colab.output.renderOutput(dataTable, element);\n",
              "        const docLink = document.createElement('div');\n",
              "        docLink.innerHTML = docLinkHtml;\n",
              "        element.appendChild(docLink);\n",
              "      }\n",
              "    </script>\n",
              "  </div>\n",
              "\n",
              "\n",
              "<div id=\"df-eb40fd44-43c0-4932-adac-57a4f6571415\">\n",
              "  <button class=\"colab-df-quickchart\" onclick=\"quickchart('df-eb40fd44-43c0-4932-adac-57a4f6571415')\"\n",
              "            title=\"Suggest charts\"\n",
              "            style=\"display:none;\">\n",
              "\n",
              "<svg xmlns=\"http://www.w3.org/2000/svg\" height=\"24px\"viewBox=\"0 0 24 24\"\n",
              "     width=\"24px\">\n",
              "    <g>\n",
              "        <path d=\"M19 3H5c-1.1 0-2 .9-2 2v14c0 1.1.9 2 2 2h14c1.1 0 2-.9 2-2V5c0-1.1-.9-2-2-2zM9 17H7v-7h2v7zm4 0h-2V7h2v10zm4 0h-2v-4h2v4z\"/>\n",
              "    </g>\n",
              "</svg>\n",
              "  </button>\n",
              "\n",
              "<style>\n",
              "  .colab-df-quickchart {\n",
              "      --bg-color: #E8F0FE;\n",
              "      --fill-color: #1967D2;\n",
              "      --hover-bg-color: #E2EBFA;\n",
              "      --hover-fill-color: #174EA6;\n",
              "      --disabled-fill-color: #AAA;\n",
              "      --disabled-bg-color: #DDD;\n",
              "  }\n",
              "\n",
              "  [theme=dark] .colab-df-quickchart {\n",
              "      --bg-color: #3B4455;\n",
              "      --fill-color: #D2E3FC;\n",
              "      --hover-bg-color: #434B5C;\n",
              "      --hover-fill-color: #FFFFFF;\n",
              "      --disabled-bg-color: #3B4455;\n",
              "      --disabled-fill-color: #666;\n",
              "  }\n",
              "\n",
              "  .colab-df-quickchart {\n",
              "    background-color: var(--bg-color);\n",
              "    border: none;\n",
              "    border-radius: 50%;\n",
              "    cursor: pointer;\n",
              "    display: none;\n",
              "    fill: var(--fill-color);\n",
              "    height: 32px;\n",
              "    padding: 0;\n",
              "    width: 32px;\n",
              "  }\n",
              "\n",
              "  .colab-df-quickchart:hover {\n",
              "    background-color: var(--hover-bg-color);\n",
              "    box-shadow: 0 1px 2px rgba(60, 64, 67, 0.3), 0 1px 3px 1px rgba(60, 64, 67, 0.15);\n",
              "    fill: var(--button-hover-fill-color);\n",
              "  }\n",
              "\n",
              "  .colab-df-quickchart-complete:disabled,\n",
              "  .colab-df-quickchart-complete:disabled:hover {\n",
              "    background-color: var(--disabled-bg-color);\n",
              "    fill: var(--disabled-fill-color);\n",
              "    box-shadow: none;\n",
              "  }\n",
              "\n",
              "  .colab-df-spinner {\n",
              "    border: 2px solid var(--fill-color);\n",
              "    border-color: transparent;\n",
              "    border-bottom-color: var(--fill-color);\n",
              "    animation:\n",
              "      spin 1s steps(1) infinite;\n",
              "  }\n",
              "\n",
              "  @keyframes spin {\n",
              "    0% {\n",
              "      border-color: transparent;\n",
              "      border-bottom-color: var(--fill-color);\n",
              "      border-left-color: var(--fill-color);\n",
              "    }\n",
              "    20% {\n",
              "      border-color: transparent;\n",
              "      border-left-color: var(--fill-color);\n",
              "      border-top-color: var(--fill-color);\n",
              "    }\n",
              "    30% {\n",
              "      border-color: transparent;\n",
              "      border-left-color: var(--fill-color);\n",
              "      border-top-color: var(--fill-color);\n",
              "      border-right-color: var(--fill-color);\n",
              "    }\n",
              "    40% {\n",
              "      border-color: transparent;\n",
              "      border-right-color: var(--fill-color);\n",
              "      border-top-color: var(--fill-color);\n",
              "    }\n",
              "    60% {\n",
              "      border-color: transparent;\n",
              "      border-right-color: var(--fill-color);\n",
              "    }\n",
              "    80% {\n",
              "      border-color: transparent;\n",
              "      border-right-color: var(--fill-color);\n",
              "      border-bottom-color: var(--fill-color);\n",
              "    }\n",
              "    90% {\n",
              "      border-color: transparent;\n",
              "      border-bottom-color: var(--fill-color);\n",
              "    }\n",
              "  }\n",
              "</style>\n",
              "\n",
              "  <script>\n",
              "    async function quickchart(key) {\n",
              "      const quickchartButtonEl =\n",
              "        document.querySelector('#' + key + ' button');\n",
              "      quickchartButtonEl.disabled = true;  // To prevent multiple clicks.\n",
              "      quickchartButtonEl.classList.add('colab-df-spinner');\n",
              "      try {\n",
              "        const charts = await google.colab.kernel.invokeFunction(\n",
              "            'suggestCharts', [key], {});\n",
              "      } catch (error) {\n",
              "        console.error('Error during call to suggestCharts:', error);\n",
              "      }\n",
              "      quickchartButtonEl.classList.remove('colab-df-spinner');\n",
              "      quickchartButtonEl.classList.add('colab-df-quickchart-complete');\n",
              "    }\n",
              "    (() => {\n",
              "      let quickchartButtonEl =\n",
              "        document.querySelector('#df-eb40fd44-43c0-4932-adac-57a4f6571415 button');\n",
              "      quickchartButtonEl.style.display =\n",
              "        google.colab.kernel.accessAllowed ? 'block' : 'none';\n",
              "    })();\n",
              "  </script>\n",
              "</div>\n",
              "    </div>\n",
              "  </div>\n"
            ]
          },
          "metadata": {},
          "execution_count": 7
        }
      ]
    },
    {
      "cell_type": "markdown",
      "source": [
        "3.Основная статистика"
      ],
      "metadata": {
        "collapsed": false,
        "id": "3FQWyGfjqJzz"
      }
    },
    {
      "cell_type": "code",
      "source": [
        "df.info()"
      ],
      "metadata": {
        "colab": {
          "base_uri": "https://localhost:8080/"
        },
        "id": "BLtofwrjsVQb",
        "outputId": "a70fb8f8-1fb1-417d-a5c9-0c409295f2b1"
      },
      "execution_count": null,
      "outputs": [
        {
          "output_type": "stream",
          "name": "stdout",
          "text": [
            "<class 'pandas.core.frame.DataFrame'>\n",
            "Int64Index: 39774 entries, 10259 to 2362\n",
            "Columns: 6715 entries, (    oz.) tomato sauce to cuisine\n",
            "dtypes: bool(6714), object(1)\n",
            "memory usage: 255.3+ MB\n"
          ]
        }
      ]
    },
    {
      "cell_type": "markdown",
      "source": [
        "4.Рассмотрим самые популярные ингридиенты внутри каждой кухни. Для этого создадим массив, который состит из кухонь каждого вида.\n",
        "Как мы можем заметить, самыми популярными ингридиентами являются: соль , соевый соус и рыбный соус."
      ],
      "metadata": {
        "collapsed": false,
        "id": "n2v8Wz5yqJz0"
      }
    },
    {
      "cell_type": "code",
      "source": [
        "cuisines = np.unique(df['cuisine'])\n",
        "most_popular_ing_by_cuisine = {}\n",
        "for cuisine in cuisines:\n",
        "  tmp_dict = {}\n",
        "  for col in df.columns[:-1]:\n",
        "    tmp_dict[col] = df[df['cuisine'] == cuisine][col].sum()\n",
        "  most_popular_ing_by_cuisine[cuisine] = max(tmp_dict, key=tmp_dict.get)\n",
        "print(most_popular_ing_by_cuisine)"
      ],
      "metadata": {
        "id": "6rP-AKl8trPw",
        "colab": {
          "base_uri": "https://localhost:8080/"
        },
        "outputId": "dd850d7e-9e8a-467e-838f-09256e4005a4"
      },
      "execution_count": 8,
      "outputs": [
        {
          "output_type": "stream",
          "name": "stdout",
          "text": [
            "{'brazilian': 'salt', 'british': 'salt', 'cajun_creole': 'salt', 'chinese': 'soy sauce', 'filipino': 'salt', 'french': 'salt', 'greek': 'salt', 'indian': 'salt', 'irish': 'salt', 'italian': 'salt', 'jamaican': 'salt', 'japanese': 'soy sauce', 'korean': 'soy sauce', 'mexican': 'salt', 'moroccan': 'salt', 'russian': 'salt', 'southern_us': 'salt', 'spanish': 'salt', 'thai': 'fish sauce', 'vietnamese': 'fish sauce'}\n"
          ]
        }
      ]
    },
    {
      "cell_type": "markdown",
      "source": [
        "5.Рассмотрим как часто та или иная кухня встречается в предоставленных данных."
      ],
      "metadata": {
        "collapsed": false,
        "id": "J-ArOsruqJz2"
      }
    },
    {
      "cell_type": "code",
      "source": [
        "print(df['cuisine'].value_counts())"
      ],
      "metadata": {
        "colab": {
          "base_uri": "https://localhost:8080/"
        },
        "id": "xvd9reuu7LuZ",
        "outputId": "a6fede6c-e5cd-4290-ae6f-a64e8e76aa2f"
      },
      "execution_count": null,
      "outputs": [
        {
          "output_type": "stream",
          "name": "stdout",
          "text": [
            "italian         7838\n",
            "mexican         6438\n",
            "southern_us     4320\n",
            "indian          3003\n",
            "chinese         2673\n",
            "french          2646\n",
            "cajun_creole    1546\n",
            "thai            1539\n",
            "japanese        1423\n",
            "greek           1175\n",
            "spanish          989\n",
            "korean           830\n",
            "vietnamese       825\n",
            "moroccan         821\n",
            "british          804\n",
            "filipino         755\n",
            "irish            667\n",
            "jamaican         526\n",
            "russian          489\n",
            "brazilian        467\n",
            "Name: cuisine, dtype: int64\n"
          ]
        }
      ]
    },
    {
      "cell_type": "markdown",
      "source": [
        "6. Визуализируем результаты."
      ],
      "metadata": {
        "collapsed": false,
        "id": "gXcPw4dsqJz4"
      }
    },
    {
      "cell_type": "code",
      "source": [
        "import matplotlib.pyplot as plt\n",
        "\n",
        "plt.figure(figsize=(8, 6))\n",
        "df['cuisine'].value_counts().plot(kind='bar')\n",
        "plt.xlabel('Кухня')\n",
        "plt.ylabel('Частота появления')\n",
        "plt.show()"
      ],
      "metadata": {
        "colab": {
          "base_uri": "https://localhost:8080/",
          "height": 615
        },
        "id": "ytfC5KuF7VcH",
        "outputId": "09bc7e84-103b-42e6-d5d9-4c814e48de5c"
      },
      "execution_count": null,
      "outputs": [
        {
          "output_type": "display_data",
          "data": {
            "text/plain": [
              "<Figure size 800x600 with 1 Axes>"
            ],
            "image/png": "[encoded data removed]"
          },
          "metadata": {}
        }
      ]
    },
    {
      "cell_type": "markdown",
      "source": [
        "7. По вышепредставленной диаграме мы можем сказть что, некоторые кухни встречаются намного чаще остальных. Следовательно, для корректного обучения следует разделить данные на трейн и тест таким образом, чтобы частота вхождения каждого вида кухонь была одинакова в обеих выборках.\n",
        "Ниже представлена статистика для тренировочной и тестовой выборки."
      ],
      "metadata": {
        "collapsed": false,
        "id": "cOoedxJ6qJz5"
      }
    },
    {
      "cell_type": "code",
      "source": [
        "df.reset_index(drop=True, inplace=True)\n",
        "\n",
        "from sklearn.model_selection import StratifiedShuffleSplit\n",
        "\n",
        "X = df.drop('cuisine', axis=1)\n",
        "y = df['cuisine']\n",
        "\n",
        "sss = StratifiedShuffleSplit(n_splits=1, test_size=0.7, random_state=1281283)\n",
        "\n",
        "for train_index, test_index in sss.split(X, y):\n",
        "  X_train = df.loc[train_index].drop('cuisine', axis=1)\n",
        "  X_test = df.loc[test_index].drop('cuisine', axis=1)\n",
        "  y_train = (df.loc[train_index])['cuisine']\n",
        "  y_test = (df.loc[test_index])['cuisine']\n",
        "\n",
        "\n",
        "print(y_train.value_counts())\n",
        "print(y_test.value_counts())"
      ],
      "metadata": {
        "colab": {
          "base_uri": "https://localhost:8080/"
        },
        "id": "AaakNi6h7wGu",
        "outputId": "b6d98ca4-d29b-43b4-e27b-4eb5685b64af"
      },
      "execution_count": null,
      "outputs": [
        {
          "output_type": "stream",
          "name": "stdout",
          "text": [
            "italian         2351\n",
            "mexican         1931\n",
            "southern_us     1296\n",
            "indian           901\n",
            "chinese          802\n",
            "french           794\n",
            "cajun_creole     464\n",
            "thai             462\n",
            "japanese         427\n",
            "greek            352\n",
            "spanish          297\n",
            "korean           249\n",
            "vietnamese       247\n",
            "moroccan         246\n",
            "british          241\n",
            "filipino         227\n",
            "irish            200\n",
            "jamaican         158\n",
            "russian          147\n",
            "brazilian        140\n",
            "Name: cuisine, dtype: int64\n",
            "italian         5487\n",
            "mexican         4507\n",
            "southern_us     3024\n",
            "indian          2102\n",
            "chinese         1871\n",
            "french          1852\n",
            "cajun_creole    1082\n",
            "thai            1077\n",
            "japanese         996\n",
            "greek            823\n",
            "spanish          692\n",
            "korean           581\n",
            "vietnamese       578\n",
            "moroccan         575\n",
            "british          563\n",
            "filipino         528\n",
            "irish            467\n",
            "jamaican         368\n",
            "russian          342\n",
            "brazilian        327\n",
            "Name: cuisine, dtype: int64\n"
          ]
        }
      ]
    },
    {
      "cell_type": "markdown",
      "source": [
        "8.Применим логистическую регрессию."
      ],
      "metadata": {
        "collapsed": false,
        "id": "6JAKhblSqJz7"
      }
    },
    {
      "cell_type": "code",
      "source": [
        "from sklearn.linear_model import LogisticRegression\n",
        "from sklearn.model_selection import train_test_split, GridSearchCV\n",
        "from sklearn.metrics import accuracy_score"
      ],
      "metadata": {
        "id": "T-7mHlT6L10G"
      },
      "execution_count": null,
      "outputs": []
    },
    {
      "cell_type": "code",
      "source": [
        "lg = LogisticRegression(solver='lbfgs', max_iter=200)\n",
        "lg.fit(X_train, y_train)\n",
        "predictions = lg.predict(X_test)\n",
        "accuracy = accuracy_score(y_test, predictions)\n",
        "print(f\"Accuracy: {accuracy:.4f}\")"
      ],
      "metadata": {
        "colab": {
          "base_uri": "https://localhost:8080/"
        },
        "id": "eu5JVryeMKs9",
        "outputId": "04dc9426-a134-4089-f53d-f05e094d25e2"
      },
      "execution_count": null,
      "outputs": [
        {
          "output_type": "stream",
          "name": "stdout",
          "text": [
            "Accuracy: 0.7416\n"
          ]
        }
      ]
    },
    {
      "cell_type": "markdown",
      "source": [
        "9. Данный метод дал не очень приятный результат.\n",
        "Используем метод Random forest. Может в этом случае значение точности будет больше."
      ],
      "metadata": {
        "collapsed": false,
        "id": "DrdM0y7KqJ0A"
      }
    },
    {
      "cell_type": "code",
      "source": [
        "from sklearn.ensemble import RandomForestClassifier\n",
        "rfc = RandomForestClassifier()\n",
        "rfc.fit(X_train, y_train)\n",
        "predictions = rfc.predict(X_test)\n",
        "accuracy = accuracy_score(y_test, predictions)\n",
        "print(f\"Accuracy RF: {accuracy:.4f}\")"
      ],
      "metadata": {
        "colab": {
          "base_uri": "https://localhost:8080/"
        },
        "id": "wm9SjX6EtrKv",
        "outputId": "fe62838d-c7d4-4570-c1c0-12be2ce7a314"
      },
      "execution_count": null,
      "outputs": [
        {
          "output_type": "stream",
          "name": "stdout",
          "text": [
            "Accuracy RF: 0.6769\n"
          ]
        }
      ]
    },
    {
      "cell_type": "markdown",
      "source": [
        "10. Надежды не оправдались. Используем метод градиентного спуска."
      ],
      "metadata": {
        "collapsed": false,
        "id": "MNYiUe7aqJ0D"
      }
    },
    {
      "cell_type": "code",
      "source": [
        "from sklearn.ensemble import GradientBoostingClassifier\n",
        "\n",
        "# Создание модели Gradient Boosting для бинарной классификации\n",
        "gradient_boosted = GradientBoostingClassifier(n_estimators=100, learning_rate=0.1)\n",
        "\n",
        "\n",
        "# Fit the model on the training data\n",
        "gradient_boosted.fit(X_train, y_train)\n",
        "\n",
        "# Make predictions on the test data\n",
        "predictions = gradient_boosted.predict(X_test)\n",
        "\n",
        "print(f\"Accuracy GB: {accuracy_score(y_test, predictions):.4f}\")"
      ],
      "metadata": {
        "colab": {
          "base_uri": "https://localhost:8080/"
        },
        "id": "dr8t5DWk23e1",
        "outputId": "d087d200-3510-447e-90c8-c08500042694"
      },
      "execution_count": null,
      "outputs": [
        {
          "output_type": "stream",
          "name": "stdout",
          "text": [
            "Accuracy GB: 0.6798\n"
          ]
        }
      ]
    },
    {
      "cell_type": "markdown",
      "source": [
        "11. Полученная точность не радует. Попробуем увеличить её значение. Для этого подберем гиперпараметры."
      ],
      "metadata": {
        "id": "5ZfbYR9hLMTC"
      }
    },
    {
      "cell_type": "code",
      "source": [
        "model = GradientBoostingClassifier()\n",
        "\n",
        "# Определение сетки гиперпараметров\n",
        "param_grid = {\n",
        "    'n_estimators': [100, 200, 300],\n",
        "    'max_depth': [3, 4, 5],\n",
        "    'learning_rate': [0.1, 0.01, 0.001]\n",
        "}\n",
        "\n",
        "# Поиск наилучших гиперпараметров\n",
        "grid_search = GridSearchCV(model, param_grid, cv=3, n_jobs=-1)\n",
        "grid_search.fit(X_train, y_train)\n",
        "best_model = grid_search.best_estimator_\n",
        "\n"
      ],
      "metadata": {
        "id": "IRScUk9A1rCL"
      },
      "execution_count": null,
      "outputs": []
    },
    {
      "cell_type": "markdown",
      "source": [
        "12. К сожалению, результата нет. Слишком долго считал и вылетел."
      ],
      "metadata": {
        "collapsed": false,
        "id": "O6CEqxR7qJ0F"
      }
    },
    {
      "cell_type": "markdown",
      "source": [
        "Заключение:\n",
        "\n",
        "В ходе обучения было использованно три метода: логистическая регрессия, случайный лес, градиентный спуск. Полученные значения точностей:\n",
        "логистическая регрессия - 0.7416\n",
        "градиентный спуск - 0.6798\n",
        "случайный лес - 0.6769\n",
        "\n"
      ],
      "metadata": {
        "collapsed": false,
        "id": "yzHRrD1xqJ0F"
      }
    }
  ]
}
